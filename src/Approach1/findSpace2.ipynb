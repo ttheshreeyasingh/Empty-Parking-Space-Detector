{
  "cells": [
    {
      "cell_type": "code",
      "execution_count": 3,
      "metadata": {
        "id": "D0KGw4sYJQ-c"
      },
      "outputs": [],
      "source": [
        "# Importing libraries\n",
        "# Used to save positions of parking spaces\n",
        "import cv2\n",
        "import pickle\n",
        "\n",
        "# Dimension of grid\n",
        "w, h = 39, 82"
      ]
    },
    {
      "cell_type": "code",
      "execution_count": 4,
      "metadata": {
        "id": "OchkNHTFJQ-g"
      },
      "outputs": [],
      "source": [
        "try:\n",
        "    with open('CarParkPos', 'rb') as f:\n",
        "        positionsList = pickle.load(f)\n",
        "except:\n",
        "    # List to contain coordinates x,y to which w and h are added \n",
        "    positionsList = []"
      ]
    },
    {
      "cell_type": "code",
      "execution_count": 5,
      "metadata": {
        "id": "wAFVMEkcJQ-h"
      },
      "outputs": [],
      "source": [
        "# Mouse click function to mark the parking spaces manually \n",
        "def mouseclickInit(events, x, y, flags, params):\n",
        "    # Append the coordinates to the list\n",
        "    if events == cv2.EVENT_LBUTTONDOWN:\n",
        "        positionsList.append((x, y))\n",
        "\n",
        "    if events == cv2.EVENT_RBUTTONDOWN:\n",
        "        # If the click point is between x and y (ie in the grid) then- remove it \n",
        "        for i, pos in enumerate(positionsList):\n",
        "            x1, y1 = pos\n",
        "            if x1 < x < x1 + w and y1 < y < y1 + h:\n",
        "                positionsList.pop(i)\n",
        "\n",
        "    with open('CarParkPos', 'wb') as f:\n",
        "        pickle.dump(positionsList, f)"
      ]
    },
    {
      "cell_type": "code",
      "execution_count": 6,
      "metadata": {
        "id": "jkZ16qrLJQ-i"
      },
      "outputs": [
        {
          "name": "stderr",
          "output_type": "stream",
          "text": [
            "qt.qpa.plugin: Could not find the Qt platform plugin \"wayland\" in \"/home/padfoot/.local/lib/python3.10/site-packages/cv2/qt/plugins\"\n"
          ]
        },
        {
          "ename": "KeyboardInterrupt",
          "evalue": "",
          "output_type": "error",
          "traceback": [
            "\u001b[0;31m---------------------------------------------------------------------------\u001b[0m",
            "\u001b[0;31mKeyboardInterrupt\u001b[0m                         Traceback (most recent call last)",
            "Cell \u001b[0;32mIn [6], line 2\u001b[0m\n\u001b[1;32m      1\u001b[0m \u001b[39mwhile\u001b[39;00m \u001b[39mTrue\u001b[39;00m:\n\u001b[0;32m----> 2\u001b[0m     img \u001b[39m=\u001b[39m cv2\u001b[39m.\u001b[39;49mimread(\u001b[39m'\u001b[39;49m\u001b[39mcarParkImg.jpg\u001b[39;49m\u001b[39m'\u001b[39;49m)\n\u001b[1;32m      4\u001b[0m     \u001b[39m# Marking the parking spaces by calling the mouseclick function\u001b[39;00m\n\u001b[1;32m      5\u001b[0m     \u001b[39mfor\u001b[39;00m pos \u001b[39min\u001b[39;00m positionsList:\n",
            "\u001b[0;31mKeyboardInterrupt\u001b[0m: "
          ]
        },
        {
          "ename": "",
          "evalue": "",
          "output_type": "error",
          "traceback": [
            "\u001b[1;31mThe Kernel crashed while executing code in the the current cell or a previous cell. Please review the code in the cell(s) to identify a possible cause of the failure. Click <a href='https://aka.ms/vscodeJupyterKernelCrash'>here</a> for more info. View Jupyter <a href='command:jupyter.viewOutput'>log</a> for further details."
          ]
        }
      ],
      "source": [
        "while True:\n",
        "    img = cv2.imread('carParkImg.jpg')\n",
        "    \n",
        "    # Marking the parking spaces by calling the mouseclick function\n",
        "    for pos in positionsList:\n",
        "        cv2.rectangle(img, pos, (pos[0] + w, pos[1] + h), (255, 0, 255), 2)\n",
        "\n",
        "    cv2.imshow(\"Image\", img)\n",
        "    cv2.setMouseCallback(\"Image\", mouseclickInit)\n",
        "    cv2.waitKey(1)"
      ]
    }
  ],
  "metadata": {
    "colab": {
      "provenance": []
    },
    "kernelspec": {
      "display_name": "Python 3.10.6 64-bit",
      "language": "python",
      "name": "python3"
    },
    "language_info": {
      "codemirror_mode": {
        "name": "ipython",
        "version": 3
      },
      "file_extension": ".py",
      "mimetype": "text/x-python",
      "name": "python",
      "nbconvert_exporter": "python",
      "pygments_lexer": "ipython3",
      "version": "3.10.6"
    },
    "orig_nbformat": 4,
    "vscode": {
      "interpreter": {
        "hash": "916dbcbb3f70747c44a77c7bcd40155683ae19c65e1c03b4aa3499c5328201f1"
      }
    }
  },
  "nbformat": 4,
  "nbformat_minor": 0
}
