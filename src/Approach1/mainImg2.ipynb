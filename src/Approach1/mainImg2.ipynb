{
 "cells": [
  {
   "cell_type": "code",
   "execution_count": 1,
   "metadata": {},
   "outputs": [],
   "source": [
    "# Importing libraries\n",
    "import cv2\n",
    "import pickle\n",
    "import cvzone \n",
    "import numpy as np"
   ]
  },
  {
   "cell_type": "code",
   "execution_count": 2,
   "metadata": {},
   "outputs": [],
   "source": [
    "with open('CarParkPositions2', 'rb') as f:\n",
    "    positionList = pickle.load(f)\n",
    "\n",
    "w, h = 39, 82"
   ]
  },
  {
   "cell_type": "code",
   "execution_count": 3,
   "metadata": {},
   "outputs": [],
   "source": [
    "def checkParkingSpace(ProcessedImage,img):\n",
    "    Counter = 0\n",
    "\n",
    "    for pos in positionList:\n",
    "        x, y = pos\n",
    "\n",
    "        imgCrop = ProcessedImage[y:y + h, x:x + w]\n",
    "        count = cv2.countNonZero(imgCrop)\n",
    "\n",
    "        if count < 900:\n",
    "            color = (0, 255, 0)\n",
    "            thickness = 2\n",
    "            Counter = Counter + 1\n",
    "        else:\n",
    "            color = (0, 0, 255)\n",
    "            thickness = 2\n",
    "\n",
    "        cv2.rectangle(img, pos, (pos[0] + w, pos[1] + h), color, thickness)\n",
    "        cvzone.putTextRect(img, str(count), (x, y + h - 3), scale=1,\n",
    "                           thickness=2, offset=0, colorR=color)\n",
    "\n",
    "    cvzone.putTextRect(img, f'Free: {Counter}/{len(positionList)}', (100, 50), scale=3,\n",
    "                           thickness=5, offset=20, colorR=(0,200,0))\n",
    "\n",
    "    return img"
   ]
  },
  {
   "cell_type": "code",
   "execution_count": 4,
   "metadata": {},
   "outputs": [
    {
     "name": "stderr",
     "output_type": "stream",
     "text": [
      "qt.qpa.plugin: Could not find the Qt platform plugin \"wayland\" in \"/home/padfoot/.local/lib/python3.10/site-packages/cv2/qt/plugins\"\n"
     ]
    },
    {
     "ename": "KeyboardInterrupt",
     "evalue": "",
     "output_type": "error",
     "traceback": [
      "\u001b[0;31m---------------------------------------------------------------------------\u001b[0m",
      "\u001b[0;31mKeyboardInterrupt\u001b[0m                         Traceback (most recent call last)",
      "Cell \u001b[0;32mIn [4], line 3\u001b[0m\n\u001b[1;32m      1\u001b[0m \u001b[39mwhile\u001b[39;00m \u001b[39mTrue\u001b[39;00m:\n\u001b[1;32m      2\u001b[0m     \u001b[39m#orgImg = cv2.imread('carParkImg.jpg')\u001b[39;00m\n\u001b[0;32m----> 3\u001b[0m     img \u001b[39m=\u001b[39m cv2\u001b[39m.\u001b[39;49mimread(\u001b[39m'\u001b[39;49m\u001b[39mcarParkImg2.jpg\u001b[39;49m\u001b[39m'\u001b[39;49m)\n\u001b[1;32m      4\u001b[0m     imgGray \u001b[39m=\u001b[39m cv2\u001b[39m.\u001b[39mcvtColor(img, cv2\u001b[39m.\u001b[39mCOLOR_BGR2GRAY)\n\u001b[1;32m      5\u001b[0m     imgBlur \u001b[39m=\u001b[39m cv2\u001b[39m.\u001b[39mGaussianBlur(imgGray, (\u001b[39m3\u001b[39m, \u001b[39m3\u001b[39m), \u001b[39m1\u001b[39m)\n",
      "\u001b[0;31mKeyboardInterrupt\u001b[0m: "
     ]
    }
   ],
   "source": [
    "while True:\n",
    "    #orgImg = cv2.imread('carParkImg.jpg')\n",
    "    img = cv2.imread('carParkImg2.jpg')\n",
    "    imgGray = cv2.cvtColor(img, cv2.COLOR_BGR2GRAY)\n",
    "    imgBlur = cv2.GaussianBlur(imgGray, (3, 3), 1)\n",
    "    imgThreshold = cv2.adaptiveThreshold(imgBlur, 255, cv2.ADAPTIVE_THRESH_GAUSSIAN_C,cv2.THRESH_BINARY_INV, 25, 16)\n",
    "    imgMedian = cv2.medianBlur(imgThreshold, 5)\n",
    "    kernel = np.ones((3, 3), np.uint8)\n",
    "    imgDilate = cv2.dilate(imgMedian, kernel, iterations=1)\n",
    "\n",
    "    Image = checkParkingSpace(imgDilate,img)\n",
    "    #cv2.imshow(\"Original Image\", orgImg)\n",
    "    cv2.imshow(\"Image Result\", Image)\n",
    "    cv2.imshow(\"ImageBlur\", imgBlur)\n",
    "    cv2.imshow(\"ImageThres\", imgMedian)\n",
    "    cv2.waitKey(10)"
   ]
  }
 ],
 "metadata": {
  "kernelspec": {
   "display_name": "Python 3.10.6 64-bit",
   "language": "python",
   "name": "python3"
  },
  "language_info": {
   "codemirror_mode": {
    "name": "ipython",
    "version": 3
   },
   "file_extension": ".py",
   "mimetype": "text/x-python",
   "name": "python",
   "nbconvert_exporter": "python",
   "pygments_lexer": "ipython3",
   "version": "3.10.6"
  },
  "orig_nbformat": 4,
  "vscode": {
   "interpreter": {
    "hash": "916dbcbb3f70747c44a77c7bcd40155683ae19c65e1c03b4aa3499c5328201f1"
   }
  }
 },
 "nbformat": 4,
 "nbformat_minor": 2
}
